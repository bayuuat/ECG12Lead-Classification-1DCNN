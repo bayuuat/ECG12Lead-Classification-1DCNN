{
 "cells": [
  {
   "cell_type": "code",
   "execution_count": 25,
   "id": "a8fe4c61",
   "metadata": {},
   "outputs": [
    {
     "name": "stdout",
     "output_type": "stream",
     "text": [
      "N : 150406 | V : 20011 | A : 1944 | F : 219 | Q : 6 | n : 32 | R : 3173 | B : 1 | S : 16 | + : 12 | j : 92 | \n",
      "\n",
      "['N', 'V', 'A', 'F', 'Q', 'n', 'R', 'B', 'S', '+', 'j']\n",
      "[150406, 20011, 1944, 219, 6, 32, 3173, 1, 16, 12, 92]\n"
     ]
    }
   ],
   "source": [
    "import pandas as pd\n",
    "from pathlib import Path\n",
    "\n",
    "class_list = []\n",
    "sum_class = []\n",
    "for z in range(76):\n",
    "    pathAnno = ('C:/Users/62812/PROJEK TA/DATASET ST.PETERS/newAnno/%d.txt' % z)\n",
    "\n",
    "    file = Path(pathAnno)\n",
    "    if file.is_file():\n",
    "        # print(\"Reading ECG-%d\" % z)\n",
    "        anotasi = pd.read_csv(pathAnno, sep=',')\n",
    "        npanotasi = anotasi.values\n",
    "        tipe = npanotasi[:, 2]\n",
    "\n",
    "        for x in tipe:\n",
    "            class_list.append(x)\n",
    "\n",
    "classes = list(dict.fromkeys(class_list))\n",
    "for i in classes:\n",
    "    counter = class_list.count(i)\n",
    "    sum_class.append(counter)\n",
    "    print(i,':',counter, sep=' ', end=' | ', flush=True)\n",
    "\n",
    "print('\\n')\n",
    "print(classes)\n",
    "print(sum_class)\n"
   ]
  },
  {
   "cell_type": "code",
   "execution_count": 26,
   "id": "71b99e64",
   "metadata": {},
   "outputs": [
    {
     "data": {
      "image/png": "[encoded data removed]",
      "text/plain": [
       "<Figure size 144x144 with 1 Axes>"
      ]
     },
     "metadata": {
      "needs_background": "light"
     },
     "output_type": "display_data"
    },
    {
     "data": {
      "image/png": "[encoded data removed]",
      "text/plain": [
       "<Figure size 144x144 with 1 Axes>"
      ]
     },
     "metadata": {
      "needs_background": "light"
     },
     "output_type": "display_data"
    },
    {
     "data": {
      "image/png": "[encoded data removed]",
      "text/plain": [
       "<Figure size 144x144 with 1 Axes>"
      ]
     },
     "metadata": {
      "needs_background": "light"
     },
     "output_type": "display_data"
    }
   ],
   "source": [
    "import matplotlib.pyplot as plt\n",
    "import numpy as np\n",
    "plt.style.use('_mpl-gallery')\n",
    "\n",
    "# plot\n",
    "fig, ax = plt.subplots()\n",
    "ax.bar(classes, sum_class, edgecolor=\"white\")\n",
    "\n",
    "del classes[0]\n",
    "del sum_class[0]\n",
    "fig, bx = plt.subplots()\n",
    "bx.bar(classes, sum_class, edgecolor=\"white\")\n",
    "\n",
    "del classes[0]\n",
    "del sum_class[0]\n",
    "fig, cx = plt.subplots()\n",
    "cx.bar(classes, sum_class, edgecolor=\"white\")\n",
    "\n",
    "plt.show()"
   ]
  },
  {
   "cell_type": "code",
   "execution_count": null,
   "id": "3ffdd5df",
   "metadata": {},
   "outputs": [],
   "source": []
  }
 ],
 "metadata": {
  "kernelspec": {
   "display_name": "Python 3 (ipykernel)",
   "language": "python",
   "name": "python3"
  },
  "language_info": {
   "codemirror_mode": {
    "name": "ipython",
    "version": 3
   },
   "file_extension": ".py",
   "mimetype": "text/x-python",
   "name": "python",
   "nbconvert_exporter": "python",
   "pygments_lexer": "ipython3",
   "version": "3.7.9"
  }
 },
 "nbformat": 4,
 "nbformat_minor": 5
}
