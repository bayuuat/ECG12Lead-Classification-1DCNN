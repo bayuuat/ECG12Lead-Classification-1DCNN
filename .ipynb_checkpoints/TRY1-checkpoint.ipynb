{
 "cells": [
  {
   "cell_type": "code",
   "execution_count": 1,
   "id": "c79c8fe4",
   "metadata": {},
   "outputs": [
    {
     "name": "stderr",
     "output_type": "stream",
     "text": [
      "Using TensorFlow backend.\n"
     ]
    }
   ],
   "source": [
    "from __future__ import print_function\n",
    "from matplotlib import pyplot as plt\n",
    "import gc\n",
    "import pickle\n",
    "import random\n",
    "from multiprocessing import Pool\n",
    "\n",
    "import numpy as np\n",
    "import pandas as pd\n",
    "from keras import optimizers, losses, activations, models\n",
    "from keras.callbacks import ModelCheckpoint, EarlyStopping, LearningRateScheduler\n",
    "from keras.layers import Dense, Input, Dropout, Convolution1D, MaxPool1D, GlobalMaxPool1D, GlobalAveragePooling1D, \\\n",
    "    concatenate\n",
    "from numpy import random\n",
    "import numpy as np\n",
    "import glob\n",
    "import os\n",
    "import pandas as pd\n",
    "from PIL import Image\n",
    "import numpy as np\n",
    "import matplotlib.pyplot as plt\n",
    "from random import shuffle\n",
    "from sklearn.model_selection import train_test_split\n",
    "from tqdm import tqdm"
   ]
  },
  {
   "cell_type": "code",
   "execution_count": 2,
   "id": "c082c6e3",
   "metadata": {},
   "outputs": [],
   "source": [
    "train_files = glob.glob(\"DATASET BARU/train/*.txt\")\n",
    "test_files = glob.glob(\"DATASET BARU/test/*.txt\")\n",
    "train_labels = pd.read_csv(\"trainlabel.csv\")"
   ]
  },
  {
   "cell_type": "code",
   "execution_count": 3,
   "id": "00954c74",
   "metadata": {},
   "outputs": [],
   "source": [
    "file_to_label = {\"DATASET BARU/train/\"+k:v for k,v in zip(train_labels.fname.values, train_labels.label.values)}"
   ]
  },
  {
   "cell_type": "code",
   "execution_count": 4,
   "id": "c255e4d0",
   "metadata": {},
   "outputs": [
    {
     "data": {
      "text/plain": [
       "'DATASET BARU/train\\\\FVN108.txt'"
      ]
     },
     "execution_count": 4,
     "metadata": {},
     "output_type": "execute_result"
    }
   ],
   "source": [
    "train_files[10]"
   ]
  },
  {
   "cell_type": "code",
   "execution_count": 5,
   "id": "ba7326e6",
   "metadata": {
    "scrolled": true
   },
   "outputs": [
    {
     "name": "stdout",
     "output_type": "stream",
     "text": [
      "['0.055', '0.045', '0.05', '0.05', '0.08', '0.08', '0.075', '0.055', '0.05', '0.075', '0.09', '0.1', '0.1', '0.09', '0.115', '0.125', '0.165', '0.18', '0.17', '0.165', '0.175', '0.205', '0.225', '0.255', '0.24', '0.255', '0.275', '0.3', '0.315', '0.325', '0.31', '0.325', '0.335', '0.36', '0.4', '0.42', '0.42', '0.405', '0.395', '0.41', '0.42', '0.43', '0.415', '0.41', '0.385', '0.39', '0.385', '0.37', '0.335', '0.31', '0.285', '0.26', '0.265', '0.245', '0.21', '0.165', '0.14', '0.135', '0.135', '0.125', '0.09', '0.065', '0.06', '0.065', '0.07', '0.04', '0.005', '-0.005', '-0.005', '0.005', '0.0', '0.005', '-0.01', '-0.03', '-0.05', '-0.025', '-0.01', '-0.01', '-0.015', '-0.04', '-0.055', '-0.04', '-0.02', '-0.015', '-0.015', '-0.035', '-0.045', '-0.04', '-0.015', '-0.01', '-0.005', '-0.035', '-0.03', '-0.02', '-0.01', '0.0', '-0.015', '-0.035', '-0.03', '-0.035', '-0.015', '-0.005', '-0.025', '-0.025', '-0.015', '-0.015', '0.005', '0.005', '-0.005', '-0.015', '-0.025', '-0.02', '-0.005', '-0.015', '-0.005', '-0.015', '0.005', '0.03', '0.035', '0.045', '0.04', '0.05', '0.05', '0.07', '0.085', '0.08', '0.08', '0.075', '0.095', '0.115', '0.14', '0.155', '0.14', '0.14', '0.15', '0.145', '0.145', '0.13', '0.135', '0.105', '0.08', '0.075', '0.06', '0.04', '0.005', '-0.025', '-0.03', '-0.015', '0.005', '-0.015', '-0.025', '-0.025', '-0.02', '-0.005', '0.035', '0.075', '0.1', '0.15', '0.215', '0.295', '0.36', '0.41', '0.465', '0.495', '0.555', '0.645', '0.72', '0.795', '0.855', '0.905', '0.995', '1.08', '1.185', '1.245', '1.315', '1.38', '1.495', '1.63', '1.755', '1.84', '1.915', '1.985', '2.07', '2.17', '2.25', '2.285', '2.24', '2.045', '1.695', '1.295', '0.935', '0.605', '0.33', '0.145', '0.035', '-0.025', '-0.07', '-0.125', '-0.165', '-0.21', '-0.24', '-0.25', '-0.25', '-0.25', '-0.27', '-0.3', '-0.32', '-0.32', '-0.305', '-0.325', '-0.32', '-0.33', '-0.325', '-0.315', '-0.31', '-0.33', '-0.365', '-0.36', '-0.375', '-0.38', '-0.385', '-0.385', '-0.39', '-0.4', '-0.415', '-0.41', '-0.4', '-0.425', '-0.43', '-0.445', '-0.45', '-0.455', '-0.455', '-0.47', '-0.49', '-0.52', '-0.53', '-0.515', '-0.505', '-0.515', '-0.53', '-0.545', '-0.555', '-0.555', '-0.54', '-0.54', '-0.56', '-0.565', '-0.565', '-0.54', '-0.54', '-0.52', '-0.53', '-0.535', '-0.53', '-0.48', '-0.465', '-0.435', '-0.44', '-0.44', '-0.43', '-0.385', '-0.35', '-0.3', '-0.3', '-0.295', '-0.28', '-0.255', '-0.21', '-0.18', '-0.17', '-0.18', '-0.16', '-0.14', '-0.11', '-0.11', '-0.1', '-0.11', '-0.105', '-0.085', '-0.08', '-0.07', '-0.09', '-0.095', '-0.11', '-0.095', '-0.085', '-0.085', '-0.09', '-0.1', '-0.1', '-0.1', '-0.08', '-0.09', '-0.095', '-0.115', '-0.11', '-0.085', '-0.075', '-0.07', '-0.085', '-0.105', '-0.12', '-0.1', '-0.115', '-0.095', '-0.11', '-0.11', '-0.115', '-0.08', '-0.07', '-0.06', '-0.085', '-0.08', '-0.075', '-0.065', '-0.055', '-0.055', '-0.055', '-0.07', '-0.07', '-0.05', '-0.015', '0.005', '0.03', '0.055', '0.08', '0.155', '0.23', '0.3', '0.35', '0.4', '0.455', '0.53', '0.62', '0.69', '0.755', '0.82', '0.9', '0.99', '1.075', '1.15', '1.235', '1.315', '1.43', '1.54', '1.595', '1.585', '1.515', '1.45', '1.405', '1.375', '1.345', '1.295', '1.23', '1.19', '1.175', '1.18', '1.2', '1.205']\n"
     ]
    }
   ],
   "source": [
    "with open(train_files[100]) as f:\n",
    "    lines = f.readlines()\n",
    "    x = [line.split()[0] for line in lines]\n",
    "    print(x)\n",
    "#     fig = plt.figure(figsize=(14, 8))\n",
    "#     plt.ylabel('Amplitude')\n",
    "#     plt.plot(np.linspace(0, 1, 360), x)\n",
    "#     plt.show()"
   ]
  },
  {
   "cell_type": "code",
   "execution_count": 6,
   "id": "102e75f8",
   "metadata": {},
   "outputs": [
    {
     "data": {
      "image/png": "[encoded data removed]",
      "text/plain": [
       "<Figure size 432x288 with 1 Axes>"
      ]
     },
     "metadata": {
      "needs_background": "light"
     },
     "output_type": "display_data"
    }
   ],
   "source": [
    "def read_data(file_path):\n",
    "\n",
    "    column_names = ['fname', 'label']\n",
    "    df = pd.read_csv(file_path,\n",
    "                     header=None,\n",
    "                     names=column_names)\n",
    "    return df\n",
    "\n",
    "df = read_data('trainlabel.csv')\n",
    "df['label'].value_counts().plot(kind='bar',title='Training Examples by Class Type')\n",
    "plt.show()"
   ]
  },
  {
   "cell_type": "code",
   "execution_count": 7,
   "id": "7e2d42d0",
   "metadata": {},
   "outputs": [
    {
     "name": "stdout",
     "output_type": "stream",
     "text": [
      "['F', 'L', 'N', 'R', 'V']\n",
      "{'F': 0, 'L': 1, 'N': 2, 'R': 3, 'V': 4}\n",
      "{0: 'F', 1: 'L', 2: 'N', 3: 'R', 4: 'V'}\n",
      "{'DATASET BARU/train/FVN1.txt': 0, 'DATASET BARU/train/FVN2.txt': 0, 'DATASET BARU/train/FVN3.txt': 0, 'DATASET BARU/train/FVN4.txt': 0, 'DATASET BARU/train/FVN5.txt': 0, 'DATASET BARU/train/FVN6.txt': 0, 'DATASET BARU/train/FVN7.txt': 0, 'DATASET BARU/train/FVN8.txt': 0, 'DATASET BARU/train/FVN9.txt': 0, 'DATASET BARU/train/FVN10.txt': 0, 'DATASET BARU/train/FVN11.txt': 0, 'DATASET BARU/train/FVN12.txt': 0, 'DATASET BARU/train/FVN13.txt': 0, 'DATASET BARU/train/FVN14.txt': 0, 'DATASET BARU/train/FVN15.txt': 0, 'DATASET BARU/train/FVN16.txt': 0, 'DATASET BARU/train/FVN17.txt': 0, 'DATASET BARU/train/FVN18.txt': 0, 'DATASET BARU/train/FVN19.txt': 0, 'DATASET BARU/train/FVN20.txt': 0, 'DATASET BARU/train/FVN21.txt': 0, 'DATASET BARU/train/FVN22.txt': 0, 'DATASET BARU/train/FVN23.txt': 0, 'DATASET BARU/train/FVN24.txt': 0, 'DATASET BARU/train/FVN25.txt': 0, 'DATASET BARU/train/FVN26.txt': 0, 'DATASET BARU/train/FVN27.txt': 0, 'DATASET BARU/train/FVN28.txt': 0, 'DATASET BARU/train/FVN29.txt': 0, 'DATASET BARU/train/FVN30.txt': 0, 'DATASET BARU/train/FVN31.txt': 0, 'DATASET BARU/train/FVN32.txt': 0, 'DATASET BARU/train/FVN33.txt': 0, 'DATASET BARU/train/FVN34.txt': 0, 'DATASET BARU/train/FVN35.txt': 0, 'DATASET BARU/train/FVN36.txt': 0, 'DATASET BARU/train/FVN37.txt': 0, 'DATASET BARU/train/FVN38.txt': 0, 'DATASET BARU/train/FVN39.txt': 0, 'DATASET BARU/train/FVN40.txt': 0, 'DATASET BARU/train/FVN41.txt': 0, 'DATASET BARU/train/FVN42.txt': 0, 'DATASET BARU/train/FVN43.txt': 0, 'DATASET BARU/train/FVN44.txt': 0, 'DATASET BARU/train/FVN45.txt': 0, 'DATASET BARU/train/FVN46.txt': 0, 'DATASET BARU/train/FVN47.txt': 0, 'DATASET BARU/train/FVN48.txt': 0, 'DATASET BARU/train/FVN49.txt': 0, 'DATASET BARU/train/FVN50.txt': 0, 'DATASET BARU/train/FVN51.txt': 0, 'DATASET BARU/train/FVN52.txt': 0, 'DATASET BARU/train/FVN53.txt': 0, 'DATASET BARU/train/FVN54.txt': 0, 'DATASET BARU/train/FVN55.txt': 0, 'DATASET BARU/train/FVN56.txt': 0, 'DATASET BARU/train/FVN57.txt': 0, 'DATASET BARU/train/FVN58.txt': 0, 'DATASET BARU/train/FVN59.txt': 0, 'DATASET BARU/train/FVN60.txt': 0, 'DATASET BARU/train/FVN61.txt': 0, 'DATASET BARU/train/FVN62.txt': 0, 'DATASET BARU/train/FVN63.txt': 0, 'DATASET BARU/train/FVN64.txt': 0, 'DATASET BARU/train/FVN65.txt': 0, 'DATASET BARU/train/FVN66.txt': 0, 'DATASET BARU/train/FVN67.txt': 0, 'DATASET BARU/train/FVN68.txt': 0, 'DATASET BARU/train/FVN69.txt': 0, 'DATASET BARU/train/FVN70.txt': 0, 'DATASET BARU/train/FVN71.txt': 0, 'DATASET BARU/train/FVN72.txt': 0, 'DATASET BARU/train/FVN73.txt': 0, 'DATASET BARU/train/FVN74.txt': 0, 'DATASET BARU/train/FVN75.txt': 0, 'DATASET BARU/train/FVN76.txt': 0, 'DATASET BARU/train/FVN77.txt': 0, 'DATASET BARU/train/FVN78.txt': 0, 'DATASET BARU/train/FVN79.txt': 0, 'DATASET BARU/train/FVN80.txt': 0, 'DATASET BARU/train/FVN81.txt': 0, 'DATASET BARU/train/FVN82.txt': 0, 'DATASET BARU/train/FVN83.txt': 0, 'DATASET BARU/train/FVN84.txt': 0, 'DATASET BARU/train/FVN85.txt': 0, 'DATASET BARU/train/FVN86.txt': 0, 'DATASET BARU/train/FVN87.txt': 0, 'DATASET BARU/train/FVN88.txt': 0, 'DATASET BARU/train/FVN89.txt': 0, 'DATASET BARU/train/FVN90.txt': 0, 'DATASET BARU/train/FVN91.txt': 0, 'DATASET BARU/train/FVN92.txt': 0, 'DATASET BARU/train/FVN93.txt': 0, 'DATASET BARU/train/FVN94.txt': 0, 'DATASET BARU/train/FVN95.txt': 0, 'DATASET BARU/train/FVN96.txt': 0, 'DATASET BARU/train/FVN97.txt': 0, 'DATASET BARU/train/FVN98.txt': 0, 'DATASET BARU/train/FVN99.txt': 0, 'DATASET BARU/train/FVN100.txt': 0, 'DATASET BARU/train/FVN101.txt': 0, 'DATASET BARU/train/FVN102.txt': 0, 'DATASET BARU/train/FVN103.txt': 0, 'DATASET BARU/train/FVN104.txt': 0, 'DATASET BARU/train/FVN105.txt': 0, 'DATASET BARU/train/FVN106.txt': 0, 'DATASET BARU/train/FVN107.txt': 0, 'DATASET BARU/train/FVN108.txt': 0, 'DATASET BARU/train/FVN109.txt': 0, 'DATASET BARU/train/FVN110.txt': 0, 'DATASET BARU/train/FVN111.txt': 0, 'DATASET BARU/train/FVN112.txt': 0, 'DATASET BARU/train/FVN113.txt': 0, 'DATASET BARU/train/FVN114.txt': 0, 'DATASET BARU/train/FVN115.txt': 0, 'DATASET BARU/train/FVN116.txt': 0, 'DATASET BARU/train/FVN117.txt': 0, 'DATASET BARU/train/FVN118.txt': 0, 'DATASET BARU/train/FVN119.txt': 0, 'DATASET BARU/train/FVN120.txt': 0, 'DATASET BARU/train/FVN121.txt': 0, 'DATASET BARU/train/FVN122.txt': 0, 'DATASET BARU/train/FVN123.txt': 0, 'DATASET BARU/train/FVN124.txt': 0, 'DATASET BARU/train/FVN125.txt': 0, 'DATASET BARU/train/FVN126.txt': 0, 'DATASET BARU/train/FVN127.txt': 0, 'DATASET BARU/train/FVN128.txt': 0, 'DATASET BARU/train/FVN129.txt': 0, 'DATASET BARU/train/FVN130.txt': 0, 'DATASET BARU/train/FVN131.txt': 0, 'DATASET BARU/train/FVN132.txt': 0, 'DATASET BARU/train/FVN133.txt': 0, 'DATASET BARU/train/FVN134.txt': 0, 'DATASET BARU/train/FVN135.txt': 0, 'DATASET BARU/train/FVN136.txt': 0, 'DATASET BARU/train/FVN137.txt': 0, 'DATASET BARU/train/FVN138.txt': 0, 'DATASET BARU/train/FVN139.txt': 0, 'DATASET BARU/train/FVN140.txt': 0, 'DATASET BARU/train/FVN141.txt': 0, 'DATASET BARU/train/FVN142.txt': 0, 'DATASET BARU/train/FVN143.txt': 0, 'DATASET BARU/train/FVN144.txt': 0, 'DATASET BARU/train/FVN145.txt': 0, 'DATASET BARU/train/FVN146.txt': 0, 'DATASET BARU/train/FVN147.txt': 0, 'DATASET BARU/train/FVN148.txt': 0, 'DATASET BARU/train/FVN149.txt': 0, 'DATASET BARU/train/FVN150.txt': 0, 'DATASET BARU/train/FVN151.txt': 0, 'DATASET BARU/train/FVN152.txt': 0, 'DATASET BARU/train/FVN153.txt': 0, 'DATASET BARU/train/FVN154.txt': 0, 'DATASET BARU/train/FVN155.txt': 0, 'DATASET BARU/train/FVN156.txt': 0, 'DATASET BARU/train/FVN157.txt': 0, 'DATASET BARU/train/FVN158.txt': 0, 'DATASET BARU/train/FVN159.txt': 0, 'DATASET BARU/train/FVN160.txt': 0, 'DATASET BARU/train/FVN161.txt': 0, 'DATASET BARU/train/FVN162.txt': 0, 'DATASET BARU/train/FVN163.txt': 0, 'DATASET BARU/train/FVN164.txt': 0, 'DATASET BARU/train/FVN165.txt': 0, 'DATASET BARU/train/FVN166.txt': 0, 'DATASET BARU/train/FVN167.txt': 0, 'DATASET BARU/train/FVN168.txt': 0, 'DATASET BARU/train/FVN169.txt': 0, 'DATASET BARU/train/FVN170.txt': 0, 'DATASET BARU/train/FVN171.txt': 0, 'DATASET BARU/train/FVN172.txt': 0, 'DATASET BARU/train/FVN173.txt': 0, 'DATASET BARU/train/FVN174.txt': 0, 'DATASET BARU/train/FVN175.txt': 0, 'DATASET BARU/train/FVN176.txt': 0, 'DATASET BARU/train/FVN177.txt': 0, 'DATASET BARU/train/FVN178.txt': 0, 'DATASET BARU/train/FVN179.txt': 0, 'DATASET BARU/train/FVN180.txt': 0, 'DATASET BARU/train/FVN181.txt': 0, 'DATASET BARU/train/FVN182.txt': 0, 'DATASET BARU/train/FVN183.txt': 0, 'DATASET BARU/train/FVN184.txt': 0, 'DATASET BARU/train/FVN185.txt': 0, 'DATASET BARU/train/FVN186.txt': 0, 'DATASET BARU/train/FVN187.txt': 0, 'DATASET BARU/train/FVN188.txt': 0, 'DATASET BARU/train/FVN189.txt': 0, 'DATASET BARU/train/FVN190.txt': 0, 'DATASET BARU/train/FVN191.txt': 0, 'DATASET BARU/train/FVN192.txt': 0, 'DATASET BARU/train/FVN193.txt': 0, 'DATASET BARU/train/FVN194.txt': 0, 'DATASET BARU/train/FVN195.txt': 0, 'DATASET BARU/train/FVN196.txt': 0, 'DATASET BARU/train/FVN197.txt': 0, 'DATASET BARU/train/FVN198.txt': 0, 'DATASET BARU/train/FVN199.txt': 0, 'DATASET BARU/train/FVN200.txt': 0, 'DATASET BARU/train/NOR1.txt': 2, 'DATASET BARU/train/NOR2.txt': 2, 'DATASET BARU/train/NOR3.txt': 2, 'DATASET BARU/train/NOR4.txt': 2, 'DATASET BARU/train/NOR5.txt': 2, 'DATASET BARU/train/NOR6.txt': 2, 'DATASET BARU/train/NOR7.txt': 2, 'DATASET BARU/train/NOR8.txt': 2, 'DATASET BARU/train/NOR9.txt': 2, 'DATASET BARU/train/NOR10.txt': 2, 'DATASET BARU/train/NOR11.txt': 2, 'DATASET BARU/train/NOR12.txt': 2, 'DATASET BARU/train/NOR13.txt': 2, 'DATASET BARU/train/NOR14.txt': 2, 'DATASET BARU/train/NOR15.txt': 2, 'DATASET BARU/train/NOR16.txt': 2, 'DATASET BARU/train/NOR17.txt': 2, 'DATASET BARU/train/NOR18.txt': 2, 'DATASET BARU/train/NOR19.txt': 2, 'DATASET BARU/train/NOR20.txt': 2, 'DATASET BARU/train/NOR21.txt': 2, 'DATASET BARU/train/NOR22.txt': 2, 'DATASET BARU/train/NOR23.txt': 2, 'DATASET BARU/train/NOR24.txt': 2, 'DATASET BARU/train/NOR25.txt': 2, 'DATASET BARU/train/NOR26.txt': 2, 'DATASET BARU/train/NOR27.txt': 2, 'DATASET BARU/train/NOR28.txt': 2, 'DATASET BARU/train/NOR29.txt': 2, 'DATASET BARU/train/NOR30.txt': 2, 'DATASET BARU/train/NOR31.txt': 2, 'DATASET BARU/train/NOR32.txt': 2, 'DATASET BARU/train/NOR33.txt': 2, 'DATASET BARU/train/NOR34.txt': 2, 'DATASET BARU/train/NOR35.txt': 2, 'DATASET BARU/train/NOR36.txt': 2, 'DATASET BARU/train/NOR37.txt': 2, 'DATASET BARU/train/NOR38.txt': 2, 'DATASET BARU/train/NOR39.txt': 2, 'DATASET BARU/train/NOR40.txt': 2, 'DATASET BARU/train/NOR41.txt': 2, 'DATASET BARU/train/NOR42.txt': 2, 'DATASET BARU/train/NOR43.txt': 2, 'DATASET BARU/train/NOR44.txt': 2, 'DATASET BARU/train/NOR45.txt': 2, 'DATASET BARU/train/NOR46.txt': 2, 'DATASET BARU/train/NOR47.txt': 2, 'DATASET BARU/train/NOR48.txt': 2, 'DATASET BARU/train/NOR49.txt': 2, 'DATASET BARU/train/NOR50.txt': 2, 'DATASET BARU/train/NOR51.txt': 2, 'DATASET BARU/train/NOR52.txt': 2, 'DATASET BARU/train/NOR53.txt': 2, 'DATASET BARU/train/NOR54.txt': 2, 'DATASET BARU/train/NOR55.txt': 2, 'DATASET BARU/train/NOR56.txt': 2, 'DATASET BARU/train/NOR57.txt': 2, 'DATASET BARU/train/NOR58.txt': 2, 'DATASET BARU/train/NOR59.txt': 2, 'DATASET BARU/train/NOR60.txt': 2, 'DATASET BARU/train/NOR61.txt': 2, 'DATASET BARU/train/NOR62.txt': 2, 'DATASET BARU/train/NOR63.txt': 2, 'DATASET BARU/train/NOR64.txt': 2, 'DATASET BARU/train/NOR65.txt': 2, 'DATASET BARU/train/NOR66.txt': 2, 'DATASET BARU/train/NOR67.txt': 2, 'DATASET BARU/train/NOR68.txt': 2, 'DATASET BARU/train/NOR69.txt': 2, 'DATASET BARU/train/NOR70.txt': 2, 'DATASET BARU/train/NOR71.txt': 2, 'DATASET BARU/train/NOR72.txt': 2, 'DATASET BARU/train/NOR73.txt': 2, 'DATASET BARU/train/NOR74.txt': 2, 'DATASET BARU/train/NOR75.txt': 2, 'DATASET BARU/train/NOR76.txt': 2, 'DATASET BARU/train/NOR77.txt': 2, 'DATASET BARU/train/NOR78.txt': 2, 'DATASET BARU/train/NOR79.txt': 2, 'DATASET BARU/train/NOR80.txt': 2, 'DATASET BARU/train/NOR81.txt': 2, 'DATASET BARU/train/NOR82.txt': 2, 'DATASET BARU/train/NOR83.txt': 2, 'DATASET BARU/train/NOR84.txt': 2, 'DATASET BARU/train/NOR85.txt': 2, 'DATASET BARU/train/NOR86.txt': 2, 'DATASET BARU/train/NOR87.txt': 2, 'DATASET BARU/train/NOR88.txt': 2, 'DATASET BARU/train/NOR89.txt': 2, 'DATASET BARU/train/NOR90.txt': 2, 'DATASET BARU/train/NOR91.txt': 2, 'DATASET BARU/train/NOR92.txt': 2, 'DATASET BARU/train/NOR93.txt': 2, 'DATASET BARU/train/NOR94.txt': 2, 'DATASET BARU/train/NOR95.txt': 2, 'DATASET BARU/train/NOR96.txt': 2, 'DATASET BARU/train/NOR97.txt': 2, 'DATASET BARU/train/NOR98.txt': 2, 'DATASET BARU/train/NOR99.txt': 2, 'DATASET BARU/train/NOR100.txt': 2, 'DATASET BARU/train/NOR101.txt': 2, 'DATASET BARU/train/NOR102.txt': 2, 'DATASET BARU/train/NOR103.txt': 2, 'DATASET BARU/train/NOR104.txt': 2, 'DATASET BARU/train/NOR105.txt': 2, 'DATASET BARU/train/NOR106.txt': 2, 'DATASET BARU/train/NOR107.txt': 2, 'DATASET BARU/train/NOR108.txt': 2, 'DATASET BARU/train/NOR109.txt': 2, 'DATASET BARU/train/NOR110.txt': 2, 'DATASET BARU/train/NOR111.txt': 2, 'DATASET BARU/train/NOR112.txt': 2, 'DATASET BARU/train/NOR113.txt': 2, 'DATASET BARU/train/NOR114.txt': 2, 'DATASET BARU/train/NOR115.txt': 2, 'DATASET BARU/train/NOR116.txt': 2, 'DATASET BARU/train/NOR117.txt': 2, 'DATASET BARU/train/NOR118.txt': 2, 'DATASET BARU/train/NOR119.txt': 2, 'DATASET BARU/train/NOR120.txt': 2, 'DATASET BARU/train/NOR121.txt': 2, 'DATASET BARU/train/NOR122.txt': 2, 'DATASET BARU/train/NOR123.txt': 2, 'DATASET BARU/train/NOR124.txt': 2, 'DATASET BARU/train/NOR125.txt': 2, 'DATASET BARU/train/NOR126.txt': 2, 'DATASET BARU/train/NOR127.txt': 2, 'DATASET BARU/train/NOR128.txt': 2, 'DATASET BARU/train/NOR129.txt': 2, 'DATASET BARU/train/NOR130.txt': 2, 'DATASET BARU/train/NOR131.txt': 2, 'DATASET BARU/train/NOR132.txt': 2, 'DATASET BARU/train/NOR133.txt': 2, 'DATASET BARU/train/NOR134.txt': 2, 'DATASET BARU/train/NOR135.txt': 2, 'DATASET BARU/train/NOR136.txt': 2, 'DATASET BARU/train/NOR137.txt': 2, 'DATASET BARU/train/NOR138.txt': 2, 'DATASET BARU/train/NOR139.txt': 2, 'DATASET BARU/train/NOR140.txt': 2, 'DATASET BARU/train/NOR141.txt': 2, 'DATASET BARU/train/NOR142.txt': 2, 'DATASET BARU/train/NOR143.txt': 2, 'DATASET BARU/train/NOR144.txt': 2, 'DATASET BARU/train/NOR145.txt': 2, 'DATASET BARU/train/NOR146.txt': 2, 'DATASET BARU/train/NOR147.txt': 2, 'DATASET BARU/train/NOR148.txt': 2, 'DATASET BARU/train/NOR149.txt': 2, 'DATASET BARU/train/NOR150.txt': 2, 'DATASET BARU/train/NOR151.txt': 2, 'DATASET BARU/train/NOR152.txt': 2, 'DATASET BARU/train/NOR153.txt': 2, 'DATASET BARU/train/NOR154.txt': 2, 'DATASET BARU/train/NOR155.txt': 2, 'DATASET BARU/train/NOR156.txt': 2, 'DATASET BARU/train/NOR157.txt': 2, 'DATASET BARU/train/NOR158.txt': 2, 'DATASET BARU/train/NOR159.txt': 2, 'DATASET BARU/train/NOR160.txt': 2, 'DATASET BARU/train/NOR161.txt': 2, 'DATASET BARU/train/NOR162.txt': 2, 'DATASET BARU/train/NOR163.txt': 2, 'DATASET BARU/train/NOR164.txt': 2, 'DATASET BARU/train/NOR165.txt': 2, 'DATASET BARU/train/NOR166.txt': 2, 'DATASET BARU/train/NOR167.txt': 2, 'DATASET BARU/train/NOR168.txt': 2, 'DATASET BARU/train/NOR169.txt': 2, 'DATASET BARU/train/NOR170.txt': 2, 'DATASET BARU/train/NOR171.txt': 2, 'DATASET BARU/train/NOR172.txt': 2, 'DATASET BARU/train/NOR173.txt': 2, 'DATASET BARU/train/NOR174.txt': 2, 'DATASET BARU/train/NOR175.txt': 2, 'DATASET BARU/train/NOR176.txt': 2, 'DATASET BARU/train/NOR177.txt': 2, 'DATASET BARU/train/NOR178.txt': 2, 'DATASET BARU/train/NOR179.txt': 2, 'DATASET BARU/train/NOR180.txt': 2, 'DATASET BARU/train/NOR181.txt': 2, 'DATASET BARU/train/NOR182.txt': 2, 'DATASET BARU/train/NOR183.txt': 2, 'DATASET BARU/train/NOR184.txt': 2, 'DATASET BARU/train/NOR185.txt': 2, 'DATASET BARU/train/NOR186.txt': 2, 'DATASET BARU/train/NOR187.txt': 2, 'DATASET BARU/train/NOR188.txt': 2, 'DATASET BARU/train/NOR189.txt': 2, 'DATASET BARU/train/NOR190.txt': 2, 'DATASET BARU/train/NOR191.txt': 2, 'DATASET BARU/train/NOR192.txt': 2, 'DATASET BARU/train/NOR193.txt': 2, 'DATASET BARU/train/NOR194.txt': 2, 'DATASET BARU/train/NOR195.txt': 2, 'DATASET BARU/train/NOR196.txt': 2, 'DATASET BARU/train/NOR197.txt': 2, 'DATASET BARU/train/NOR198.txt': 2, 'DATASET BARU/train/NOR199.txt': 2, 'DATASET BARU/train/NOR200.txt': 2, 'DATASET BARU/train/PVC1.txt': 4, 'DATASET BARU/train/PVC2.txt': 4, 'DATASET BARU/train/PVC3.txt': 4, 'DATASET BARU/train/PVC4.txt': 4, 'DATASET BARU/train/PVC5.txt': 4, 'DATASET BARU/train/PVC6.txt': 4, 'DATASET BARU/train/PVC7.txt': 4, 'DATASET BARU/train/PVC8.txt': 4, 'DATASET BARU/train/PVC9.txt': 4, 'DATASET BARU/train/PVC10.txt': 4, 'DATASET BARU/train/PVC11.txt': 4, 'DATASET BARU/train/PVC12.txt': 4, 'DATASET BARU/train/PVC13.txt': 4, 'DATASET BARU/train/PVC14.txt': 4, 'DATASET BARU/train/PVC15.txt': 4, 'DATASET BARU/train/PVC16.txt': 4, 'DATASET BARU/train/PVC17.txt': 4, 'DATASET BARU/train/PVC18.txt': 4, 'DATASET BARU/train/PVC19.txt': 4, 'DATASET BARU/train/PVC20.txt': 4, 'DATASET BARU/train/PVC21.txt': 4, 'DATASET BARU/train/PVC22.txt': 4, 'DATASET BARU/train/PVC23.txt': 4, 'DATASET BARU/train/PVC24.txt': 4, 'DATASET BARU/train/PVC25.txt': 4, 'DATASET BARU/train/PVC26.txt': 4, 'DATASET BARU/train/PVC27.txt': 4, 'DATASET BARU/train/PVC28.txt': 4, 'DATASET BARU/train/PVC29.txt': 4, 'DATASET BARU/train/PVC30.txt': 4, 'DATASET BARU/train/PVC31.txt': 4, 'DATASET BARU/train/PVC32.txt': 4, 'DATASET BARU/train/PVC33.txt': 4, 'DATASET BARU/train/PVC34.txt': 4, 'DATASET BARU/train/PVC35.txt': 4, 'DATASET BARU/train/PVC36.txt': 4, 'DATASET BARU/train/PVC37.txt': 4, 'DATASET BARU/train/PVC38.txt': 4, 'DATASET BARU/train/PVC39.txt': 4, 'DATASET BARU/train/PVC40.txt': 4, 'DATASET BARU/train/PVC41.txt': 4, 'DATASET BARU/train/PVC42.txt': 4, 'DATASET BARU/train/PVC43.txt': 4, 'DATASET BARU/train/PVC44.txt': 4, 'DATASET BARU/train/PVC45.txt': 4, 'DATASET BARU/train/PVC46.txt': 4, 'DATASET BARU/train/PVC47.txt': 4, 'DATASET BARU/train/PVC48.txt': 4, 'DATASET BARU/train/PVC49.txt': 4, 'DATASET BARU/train/PVC50.txt': 4, 'DATASET BARU/train/PVC51.txt': 4, 'DATASET BARU/train/PVC52.txt': 4, 'DATASET BARU/train/PVC53.txt': 4, 'DATASET BARU/train/PVC54.txt': 4, 'DATASET BARU/train/PVC55.txt': 4, 'DATASET BARU/train/PVC56.txt': 4, 'DATASET BARU/train/PVC57.txt': 4, 'DATASET BARU/train/PVC58.txt': 4, 'DATASET BARU/train/PVC59.txt': 4, 'DATASET BARU/train/PVC60.txt': 4, 'DATASET BARU/train/PVC61.txt': 4, 'DATASET BARU/train/PVC62.txt': 4, 'DATASET BARU/train/PVC63.txt': 4, 'DATASET BARU/train/PVC64.txt': 4, 'DATASET BARU/train/PVC65.txt': 4, 'DATASET BARU/train/PVC66.txt': 4, 'DATASET BARU/train/PVC67.txt': 4, 'DATASET BARU/train/PVC68.txt': 4, 'DATASET BARU/train/PVC69.txt': 4, 'DATASET BARU/train/PVC70.txt': 4, 'DATASET BARU/train/PVC71.txt': 4, 'DATASET BARU/train/PVC72.txt': 4, 'DATASET BARU/train/PVC73.txt': 4, 'DATASET BARU/train/PVC74.txt': 4, 'DATASET BARU/train/PVC75.txt': 4, 'DATASET BARU/train/PVC76.txt': 4, 'DATASET BARU/train/PVC77.txt': 4, 'DATASET BARU/train/PVC78.txt': 4, 'DATASET BARU/train/PVC79.txt': 4, 'DATASET BARU/train/PVC80.txt': 4, 'DATASET BARU/train/PVC81.txt': 4, 'DATASET BARU/train/PVC82.txt': 4, 'DATASET BARU/train/PVC83.txt': 4, 'DATASET BARU/train/PVC84.txt': 4, 'DATASET BARU/train/PVC85.txt': 4, 'DATASET BARU/train/PVC86.txt': 4, 'DATASET BARU/train/PVC87.txt': 4, 'DATASET BARU/train/PVC88.txt': 4, 'DATASET BARU/train/PVC89.txt': 4, 'DATASET BARU/train/PVC90.txt': 4, 'DATASET BARU/train/PVC91.txt': 4, 'DATASET BARU/train/PVC92.txt': 4, 'DATASET BARU/train/PVC93.txt': 4, 'DATASET BARU/train/PVC94.txt': 4, 'DATASET BARU/train/PVC95.txt': 4, 'DATASET BARU/train/PVC96.txt': 4, 'DATASET BARU/train/PVC97.txt': 4, 'DATASET BARU/train/PVC98.txt': 4, 'DATASET BARU/train/PVC99.txt': 4, 'DATASET BARU/train/PVC100.txt': 4, 'DATASET BARU/train/PVC101.txt': 4, 'DATASET BARU/train/PVC102.txt': 4, 'DATASET BARU/train/PVC103.txt': 4, 'DATASET BARU/train/PVC104.txt': 4, 'DATASET BARU/train/PVC105.txt': 4, 'DATASET BARU/train/PVC106.txt': 4, 'DATASET BARU/train/PVC107.txt': 4, 'DATASET BARU/train/PVC108.txt': 4, 'DATASET BARU/train/PVC109.txt': 4, 'DATASET BARU/train/PVC110.txt': 4, 'DATASET BARU/train/PVC111.txt': 4, 'DATASET BARU/train/PVC112.txt': 4, 'DATASET BARU/train/PVC113.txt': 4, 'DATASET BARU/train/PVC114.txt': 4, 'DATASET BARU/train/PVC115.txt': 4, 'DATASET BARU/train/PVC116.txt': 4, 'DATASET BARU/train/PVC117.txt': 4, 'DATASET BARU/train/PVC118.txt': 4, 'DATASET BARU/train/PVC119.txt': 4, 'DATASET BARU/train/PVC120.txt': 4, 'DATASET BARU/train/PVC121.txt': 4, 'DATASET BARU/train/PVC122.txt': 4, 'DATASET BARU/train/PVC123.txt': 4, 'DATASET BARU/train/PVC124.txt': 4, 'DATASET BARU/train/PVC125.txt': 4, 'DATASET BARU/train/PVC126.txt': 4, 'DATASET BARU/train/PVC127.txt': 4, 'DATASET BARU/train/PVC128.txt': 4, 'DATASET BARU/train/PVC129.txt': 4, 'DATASET BARU/train/PVC130.txt': 4, 'DATASET BARU/train/PVC131.txt': 4, 'DATASET BARU/train/PVC132.txt': 4, 'DATASET BARU/train/PVC133.txt': 4, 'DATASET BARU/train/PVC134.txt': 4, 'DATASET BARU/train/PVC135.txt': 4, 'DATASET BARU/train/PVC136.txt': 4, 'DATASET BARU/train/PVC137.txt': 4, 'DATASET BARU/train/PVC138.txt': 4, 'DATASET BARU/train/PVC139.txt': 4, 'DATASET BARU/train/PVC140.txt': 4, 'DATASET BARU/train/PVC141.txt': 4, 'DATASET BARU/train/PVC142.txt': 4, 'DATASET BARU/train/PVC143.txt': 4, 'DATASET BARU/train/PVC144.txt': 4, 'DATASET BARU/train/PVC145.txt': 4, 'DATASET BARU/train/PVC146.txt': 4, 'DATASET BARU/train/PVC147.txt': 4, 'DATASET BARU/train/PVC148.txt': 4, 'DATASET BARU/train/PVC149.txt': 4, 'DATASET BARU/train/PVC150.txt': 4, 'DATASET BARU/train/PVC151.txt': 4, 'DATASET BARU/train/PVC152.txt': 4, 'DATASET BARU/train/PVC153.txt': 4, 'DATASET BARU/train/PVC154.txt': 4, 'DATASET BARU/train/PVC155.txt': 4, 'DATASET BARU/train/PVC156.txt': 4, 'DATASET BARU/train/PVC157.txt': 4, 'DATASET BARU/train/PVC158.txt': 4, 'DATASET BARU/train/PVC159.txt': 4, 'DATASET BARU/train/PVC160.txt': 4, 'DATASET BARU/train/PVC161.txt': 4, 'DATASET BARU/train/PVC162.txt': 4, 'DATASET BARU/train/PVC163.txt': 4, 'DATASET BARU/train/PVC164.txt': 4, 'DATASET BARU/train/PVC165.txt': 4, 'DATASET BARU/train/PVC166.txt': 4, 'DATASET BARU/train/PVC167.txt': 4, 'DATASET BARU/train/PVC168.txt': 4, 'DATASET BARU/train/PVC169.txt': 4, 'DATASET BARU/train/PVC170.txt': 4, 'DATASET BARU/train/PVC171.txt': 4, 'DATASET BARU/train/PVC172.txt': 4, 'DATASET BARU/train/PVC173.txt': 4, 'DATASET BARU/train/PVC174.txt': 4, 'DATASET BARU/train/PVC175.txt': 4, 'DATASET BARU/train/PVC176.txt': 4, 'DATASET BARU/train/PVC177.txt': 4, 'DATASET BARU/train/PVC178.txt': 4, 'DATASET BARU/train/PVC179.txt': 4, 'DATASET BARU/train/PVC180.txt': 4, 'DATASET BARU/train/PVC181.txt': 4, 'DATASET BARU/train/PVC182.txt': 4, 'DATASET BARU/train/PVC183.txt': 4, 'DATASET BARU/train/PVC184.txt': 4, 'DATASET BARU/train/PVC185.txt': 4, 'DATASET BARU/train/PVC186.txt': 4, 'DATASET BARU/train/PVC187.txt': 4, 'DATASET BARU/train/PVC188.txt': 4, 'DATASET BARU/train/PVC189.txt': 4, 'DATASET BARU/train/PVC190.txt': 4, 'DATASET BARU/train/PVC191.txt': 4, 'DATASET BARU/train/PVC192.txt': 4, 'DATASET BARU/train/PVC193.txt': 4, 'DATASET BARU/train/PVC194.txt': 4, 'DATASET BARU/train/PVC195.txt': 4, 'DATASET BARU/train/PVC196.txt': 4, 'DATASET BARU/train/PVC197.txt': 4, 'DATASET BARU/train/PVC198.txt': 4, 'DATASET BARU/train/PVC199.txt': 4, 'DATASET BARU/train/PVC200.txt': 4, 'DATASET BARU/train/RBBB1.txt': 3, 'DATASET BARU/train/RBBB2.txt': 3, 'DATASET BARU/train/RBBB3.txt': 3, 'DATASET BARU/train/RBBB4.txt': 3, 'DATASET BARU/train/RBBB5.txt': 3, 'DATASET BARU/train/RBBB6.txt': 3, 'DATASET BARU/train/RBBB7.txt': 3, 'DATASET BARU/train/RBBB8.txt': 3, 'DATASET BARU/train/RBBB9.txt': 3, 'DATASET BARU/train/RBBB10.txt': 3, 'DATASET BARU/train/RBBB11.txt': 3, 'DATASET BARU/train/RBBB12.txt': 3, 'DATASET BARU/train/RBBB13.txt': 3, 'DATASET BARU/train/RBBB14.txt': 3, 'DATASET BARU/train/RBBB15.txt': 3, 'DATASET BARU/train/RBBB16.txt': 3, 'DATASET BARU/train/RBBB17.txt': 3, 'DATASET BARU/train/RBBB18.txt': 3, 'DATASET BARU/train/RBBB19.txt': 3, 'DATASET BARU/train/RBBB20.txt': 3, 'DATASET BARU/train/RBBB21.txt': 3, 'DATASET BARU/train/RBBB22.txt': 3, 'DATASET BARU/train/RBBB23.txt': 3, 'DATASET BARU/train/RBBB24.txt': 3, 'DATASET BARU/train/RBBB25.txt': 3, 'DATASET BARU/train/RBBB26.txt': 3, 'DATASET BARU/train/RBBB27.txt': 3, 'DATASET BARU/train/RBBB28.txt': 3, 'DATASET BARU/train/RBBB29.txt': 3, 'DATASET BARU/train/RBBB30.txt': 3, 'DATASET BARU/train/RBBB31.txt': 3, 'DATASET BARU/train/RBBB32.txt': 3, 'DATASET BARU/train/RBBB33.txt': 3, 'DATASET BARU/train/RBBB34.txt': 3, 'DATASET BARU/train/RBBB35.txt': 3, 'DATASET BARU/train/RBBB36.txt': 3, 'DATASET BARU/train/RBBB37.txt': 3, 'DATASET BARU/train/RBBB38.txt': 3, 'DATASET BARU/train/RBBB39.txt': 3, 'DATASET BARU/train/RBBB40.txt': 3, 'DATASET BARU/train/RBBB41.txt': 3, 'DATASET BARU/train/RBBB42.txt': 3, 'DATASET BARU/train/RBBB43.txt': 3, 'DATASET BARU/train/RBBB44.txt': 3, 'DATASET BARU/train/RBBB45.txt': 3, 'DATASET BARU/train/RBBB46.txt': 3, 'DATASET BARU/train/RBBB47.txt': 3, 'DATASET BARU/train/RBBB48.txt': 3, 'DATASET BARU/train/RBBB49.txt': 3, 'DATASET BARU/train/RBBB50.txt': 3, 'DATASET BARU/train/RBBB51.txt': 3, 'DATASET BARU/train/RBBB52.txt': 3, 'DATASET BARU/train/RBBB53.txt': 3, 'DATASET BARU/train/RBBB54.txt': 3, 'DATASET BARU/train/RBBB55.txt': 3, 'DATASET BARU/train/RBBB56.txt': 3, 'DATASET BARU/train/RBBB57.txt': 3, 'DATASET BARU/train/RBBB58.txt': 3, 'DATASET BARU/train/RBBB59.txt': 3, 'DATASET BARU/train/RBBB60.txt': 3, 'DATASET BARU/train/RBBB61.txt': 3, 'DATASET BARU/train/RBBB62.txt': 3, 'DATASET BARU/train/RBBB63.txt': 3, 'DATASET BARU/train/RBBB64.txt': 3, 'DATASET BARU/train/RBBB65.txt': 3, 'DATASET BARU/train/RBBB66.txt': 3, 'DATASET BARU/train/RBBB67.txt': 3, 'DATASET BARU/train/RBBB68.txt': 3, 'DATASET BARU/train/RBBB69.txt': 3, 'DATASET BARU/train/RBBB70.txt': 3, 'DATASET BARU/train/RBBB71.txt': 3, 'DATASET BARU/train/RBBB72.txt': 3, 'DATASET BARU/train/RBBB73.txt': 3, 'DATASET BARU/train/RBBB74.txt': 3, 'DATASET BARU/train/RBBB75.txt': 3, 'DATASET BARU/train/RBBB76.txt': 3, 'DATASET BARU/train/RBBB77.txt': 3, 'DATASET BARU/train/RBBB78.txt': 3, 'DATASET BARU/train/RBBB79.txt': 3, 'DATASET BARU/train/RBBB80.txt': 3, 'DATASET BARU/train/RBBB81.txt': 3, 'DATASET BARU/train/RBBB82.txt': 3, 'DATASET BARU/train/RBBB83.txt': 3, 'DATASET BARU/train/RBBB84.txt': 3, 'DATASET BARU/train/RBBB85.txt': 3, 'DATASET BARU/train/RBBB86.txt': 3, 'DATASET BARU/train/RBBB87.txt': 3, 'DATASET BARU/train/RBBB88.txt': 3, 'DATASET BARU/train/RBBB89.txt': 3, 'DATASET BARU/train/RBBB90.txt': 3, 'DATASET BARU/train/RBBB91.txt': 3, 'DATASET BARU/train/RBBB92.txt': 3, 'DATASET BARU/train/RBBB93.txt': 3, 'DATASET BARU/train/RBBB94.txt': 3, 'DATASET BARU/train/RBBB95.txt': 3, 'DATASET BARU/train/RBBB96.txt': 3, 'DATASET BARU/train/RBBB97.txt': 3, 'DATASET BARU/train/RBBB98.txt': 3, 'DATASET BARU/train/RBBB99.txt': 3, 'DATASET BARU/train/RBBB100.txt': 3, 'DATASET BARU/train/RBBB101.txt': 3, 'DATASET BARU/train/RBBB102.txt': 3, 'DATASET BARU/train/RBBB103.txt': 3, 'DATASET BARU/train/RBBB104.txt': 3, 'DATASET BARU/train/RBBB105.txt': 3, 'DATASET BARU/train/RBBB106.txt': 3, 'DATASET BARU/train/RBBB107.txt': 3, 'DATASET BARU/train/RBBB108.txt': 3, 'DATASET BARU/train/RBBB109.txt': 3, 'DATASET BARU/train/RBBB110.txt': 3, 'DATASET BARU/train/RBBB111.txt': 3, 'DATASET BARU/train/RBBB112.txt': 3, 'DATASET BARU/train/RBBB113.txt': 3, 'DATASET BARU/train/RBBB114.txt': 3, 'DATASET BARU/train/RBBB115.txt': 3, 'DATASET BARU/train/RBBB116.txt': 3, 'DATASET BARU/train/RBBB117.txt': 3, 'DATASET BARU/train/RBBB118.txt': 3, 'DATASET BARU/train/RBBB119.txt': 3, 'DATASET BARU/train/RBBB120.txt': 3, 'DATASET BARU/train/RBBB121.txt': 3, 'DATASET BARU/train/RBBB122.txt': 3, 'DATASET BARU/train/RBBB123.txt': 3, 'DATASET BARU/train/RBBB124.txt': 3, 'DATASET BARU/train/RBBB125.txt': 3, 'DATASET BARU/train/RBBB126.txt': 3, 'DATASET BARU/train/RBBB127.txt': 3, 'DATASET BARU/train/RBBB128.txt': 3, 'DATASET BARU/train/RBBB129.txt': 3, 'DATASET BARU/train/RBBB130.txt': 3, 'DATASET BARU/train/RBBB131.txt': 3, 'DATASET BARU/train/RBBB132.txt': 3, 'DATASET BARU/train/RBBB133.txt': 3, 'DATASET BARU/train/RBBB134.txt': 3, 'DATASET BARU/train/RBBB135.txt': 3, 'DATASET BARU/train/RBBB136.txt': 3, 'DATASET BARU/train/RBBB137.txt': 3, 'DATASET BARU/train/RBBB138.txt': 3, 'DATASET BARU/train/RBBB139.txt': 3, 'DATASET BARU/train/RBBB140.txt': 3, 'DATASET BARU/train/RBBB141.txt': 3, 'DATASET BARU/train/RBBB142.txt': 3, 'DATASET BARU/train/RBBB143.txt': 3, 'DATASET BARU/train/RBBB144.txt': 3, 'DATASET BARU/train/RBBB145.txt': 3, 'DATASET BARU/train/RBBB146.txt': 3, 'DATASET BARU/train/RBBB147.txt': 3, 'DATASET BARU/train/RBBB148.txt': 3, 'DATASET BARU/train/RBBB149.txt': 3, 'DATASET BARU/train/RBBB150.txt': 3, 'DATASET BARU/train/RBBB151.txt': 3, 'DATASET BARU/train/RBBB152.txt': 3, 'DATASET BARU/train/RBBB153.txt': 3, 'DATASET BARU/train/RBBB154.txt': 3, 'DATASET BARU/train/RBBB155.txt': 3, 'DATASET BARU/train/RBBB156.txt': 3, 'DATASET BARU/train/RBBB157.txt': 3, 'DATASET BARU/train/RBBB158.txt': 3, 'DATASET BARU/train/RBBB159.txt': 3, 'DATASET BARU/train/RBBB160.txt': 3, 'DATASET BARU/train/RBBB161.txt': 3, 'DATASET BARU/train/RBBB162.txt': 3, 'DATASET BARU/train/RBBB163.txt': 3, 'DATASET BARU/train/RBBB164.txt': 3, 'DATASET BARU/train/RBBB165.txt': 3, 'DATASET BARU/train/RBBB166.txt': 3, 'DATASET BARU/train/RBBB167.txt': 3, 'DATASET BARU/train/RBBB168.txt': 3, 'DATASET BARU/train/RBBB169.txt': 3, 'DATASET BARU/train/RBBB170.txt': 3, 'DATASET BARU/train/RBBB171.txt': 3, 'DATASET BARU/train/RBBB172.txt': 3, 'DATASET BARU/train/RBBB173.txt': 3, 'DATASET BARU/train/RBBB174.txt': 3, 'DATASET BARU/train/RBBB175.txt': 3, 'DATASET BARU/train/RBBB176.txt': 3, 'DATASET BARU/train/RBBB177.txt': 3, 'DATASET BARU/train/RBBB178.txt': 3, 'DATASET BARU/train/RBBB179.txt': 3, 'DATASET BARU/train/RBBB180.txt': 3, 'DATASET BARU/train/RBBB181.txt': 3, 'DATASET BARU/train/RBBB182.txt': 3, 'DATASET BARU/train/RBBB183.txt': 3, 'DATASET BARU/train/RBBB184.txt': 3, 'DATASET BARU/train/RBBB185.txt': 3, 'DATASET BARU/train/RBBB186.txt': 3, 'DATASET BARU/train/RBBB187.txt': 3, 'DATASET BARU/train/RBBB188.txt': 3, 'DATASET BARU/train/RBBB189.txt': 3, 'DATASET BARU/train/RBBB190.txt': 3, 'DATASET BARU/train/RBBB191.txt': 3, 'DATASET BARU/train/RBBB192.txt': 3, 'DATASET BARU/train/RBBB193.txt': 3, 'DATASET BARU/train/RBBB194.txt': 3, 'DATASET BARU/train/RBBB195.txt': 3, 'DATASET BARU/train/RBBB196.txt': 3, 'DATASET BARU/train/RBBB197.txt': 3, 'DATASET BARU/train/RBBB198.txt': 3, 'DATASET BARU/train/RBBB199.txt': 3, 'DATASET BARU/train/RBBB200.txt': 3, 'DATASET BARU/train/LBBB1.txt': 1, 'DATASET BARU/train/LBBB2.txt': 1, 'DATASET BARU/train/LBBB3.txt': 1, 'DATASET BARU/train/LBBB4.txt': 1, 'DATASET BARU/train/LBBB5.txt': 1, 'DATASET BARU/train/LBBB6.txt': 1, 'DATASET BARU/train/LBBB7.txt': 1, 'DATASET BARU/train/LBBB8.txt': 1, 'DATASET BARU/train/LBBB9.txt': 1, 'DATASET BARU/train/LBBB10.txt': 1, 'DATASET BARU/train/LBBB11.txt': 1, 'DATASET BARU/train/LBBB12.txt': 1, 'DATASET BARU/train/LBBB13.txt': 1, 'DATASET BARU/train/LBBB14.txt': 1, 'DATASET BARU/train/LBBB15.txt': 1, 'DATASET BARU/train/LBBB16.txt': 1, 'DATASET BARU/train/LBBB17.txt': 1, 'DATASET BARU/train/LBBB18.txt': 1, 'DATASET BARU/train/LBBB19.txt': 1, 'DATASET BARU/train/LBBB20.txt': 1, 'DATASET BARU/train/LBBB21.txt': 1, 'DATASET BARU/train/LBBB22.txt': 1, 'DATASET BARU/train/LBBB23.txt': 1, 'DATASET BARU/train/LBBB24.txt': 1, 'DATASET BARU/train/LBBB25.txt': 1, 'DATASET BARU/train/LBBB26.txt': 1, 'DATASET BARU/train/LBBB27.txt': 1, 'DATASET BARU/train/LBBB28.txt': 1, 'DATASET BARU/train/LBBB29.txt': 1, 'DATASET BARU/train/LBBB30.txt': 1, 'DATASET BARU/train/LBBB31.txt': 1, 'DATASET BARU/train/LBBB32.txt': 1, 'DATASET BARU/train/LBBB33.txt': 1, 'DATASET BARU/train/LBBB34.txt': 1, 'DATASET BARU/train/LBBB35.txt': 1, 'DATASET BARU/train/LBBB36.txt': 1, 'DATASET BARU/train/LBBB37.txt': 1, 'DATASET BARU/train/LBBB38.txt': 1, 'DATASET BARU/train/LBBB39.txt': 1, 'DATASET BARU/train/LBBB40.txt': 1, 'DATASET BARU/train/LBBB41.txt': 1, 'DATASET BARU/train/LBBB42.txt': 1, 'DATASET BARU/train/LBBB43.txt': 1, 'DATASET BARU/train/LBBB44.txt': 1, 'DATASET BARU/train/LBBB45.txt': 1, 'DATASET BARU/train/LBBB46.txt': 1, 'DATASET BARU/train/LBBB47.txt': 1, 'DATASET BARU/train/LBBB48.txt': 1, 'DATASET BARU/train/LBBB49.txt': 1, 'DATASET BARU/train/LBBB50.txt': 1, 'DATASET BARU/train/LBBB51.txt': 1, 'DATASET BARU/train/LBBB52.txt': 1, 'DATASET BARU/train/LBBB53.txt': 1, 'DATASET BARU/train/LBBB54.txt': 1, 'DATASET BARU/train/LBBB55.txt': 1, 'DATASET BARU/train/LBBB56.txt': 1, 'DATASET BARU/train/LBBB57.txt': 1, 'DATASET BARU/train/LBBB58.txt': 1, 'DATASET BARU/train/LBBB59.txt': 1, 'DATASET BARU/train/LBBB60.txt': 1, 'DATASET BARU/train/LBBB61.txt': 1, 'DATASET BARU/train/LBBB62.txt': 1, 'DATASET BARU/train/LBBB63.txt': 1, 'DATASET BARU/train/LBBB64.txt': 1, 'DATASET BARU/train/LBBB65.txt': 1, 'DATASET BARU/train/LBBB66.txt': 1, 'DATASET BARU/train/LBBB67.txt': 1, 'DATASET BARU/train/LBBB68.txt': 1, 'DATASET BARU/train/LBBB69.txt': 1, 'DATASET BARU/train/LBBB70.txt': 1, 'DATASET BARU/train/LBBB71.txt': 1, 'DATASET BARU/train/LBBB72.txt': 1, 'DATASET BARU/train/LBBB73.txt': 1, 'DATASET BARU/train/LBBB74.txt': 1, 'DATASET BARU/train/LBBB75.txt': 1, 'DATASET BARU/train/LBBB76.txt': 1, 'DATASET BARU/train/LBBB77.txt': 1, 'DATASET BARU/train/LBBB78.txt': 1, 'DATASET BARU/train/LBBB79.txt': 1, 'DATASET BARU/train/LBBB80.txt': 1, 'DATASET BARU/train/LBBB81.txt': 1, 'DATASET BARU/train/LBBB82.txt': 1, 'DATASET BARU/train/LBBB83.txt': 1, 'DATASET BARU/train/LBBB84.txt': 1, 'DATASET BARU/train/LBBB85.txt': 1, 'DATASET BARU/train/LBBB86.txt': 1, 'DATASET BARU/train/LBBB87.txt': 1, 'DATASET BARU/train/LBBB88.txt': 1, 'DATASET BARU/train/LBBB89.txt': 1, 'DATASET BARU/train/LBBB90.txt': 1, 'DATASET BARU/train/LBBB91.txt': 1, 'DATASET BARU/train/LBBB92.txt': 1, 'DATASET BARU/train/LBBB93.txt': 1, 'DATASET BARU/train/LBBB94.txt': 1, 'DATASET BARU/train/LBBB95.txt': 1, 'DATASET BARU/train/LBBB96.txt': 1, 'DATASET BARU/train/LBBB97.txt': 1, 'DATASET BARU/train/LBBB98.txt': 1, 'DATASET BARU/train/LBBB99.txt': 1, 'DATASET BARU/train/LBBB100.txt': 1, 'DATASET BARU/train/LBBB101.txt': 1, 'DATASET BARU/train/LBBB102.txt': 1, 'DATASET BARU/train/LBBB103.txt': 1, 'DATASET BARU/train/LBBB104.txt': 1, 'DATASET BARU/train/LBBB105.txt': 1, 'DATASET BARU/train/LBBB106.txt': 1, 'DATASET BARU/train/LBBB107.txt': 1, 'DATASET BARU/train/LBBB108.txt': 1, 'DATASET BARU/train/LBBB109.txt': 1, 'DATASET BARU/train/LBBB110.txt': 1, 'DATASET BARU/train/LBBB111.txt': 1, 'DATASET BARU/train/LBBB112.txt': 1, 'DATASET BARU/train/LBBB113.txt': 1, 'DATASET BARU/train/LBBB114.txt': 1, 'DATASET BARU/train/LBBB115.txt': 1, 'DATASET BARU/train/LBBB116.txt': 1, 'DATASET BARU/train/LBBB117.txt': 1, 'DATASET BARU/train/LBBB118.txt': 1, 'DATASET BARU/train/LBBB119.txt': 1, 'DATASET BARU/train/LBBB120.txt': 1, 'DATASET BARU/train/LBBB121.txt': 1, 'DATASET BARU/train/LBBB122.txt': 1, 'DATASET BARU/train/LBBB123.txt': 1, 'DATASET BARU/train/LBBB124.txt': 1, 'DATASET BARU/train/LBBB125.txt': 1, 'DATASET BARU/train/LBBB126.txt': 1, 'DATASET BARU/train/LBBB127.txt': 1, 'DATASET BARU/train/LBBB128.txt': 1, 'DATASET BARU/train/LBBB129.txt': 1, 'DATASET BARU/train/LBBB130.txt': 1, 'DATASET BARU/train/LBBB131.txt': 1, 'DATASET BARU/train/LBBB132.txt': 1, 'DATASET BARU/train/LBBB133.txt': 1, 'DATASET BARU/train/LBBB134.txt': 1, 'DATASET BARU/train/LBBB135.txt': 1, 'DATASET BARU/train/LBBB136.txt': 1, 'DATASET BARU/train/LBBB137.txt': 1, 'DATASET BARU/train/LBBB138.txt': 1, 'DATASET BARU/train/LBBB139.txt': 1, 'DATASET BARU/train/LBBB140.txt': 1, 'DATASET BARU/train/LBBB141.txt': 1, 'DATASET BARU/train/LBBB142.txt': 1, 'DATASET BARU/train/LBBB143.txt': 1, 'DATASET BARU/train/LBBB144.txt': 1, 'DATASET BARU/train/LBBB145.txt': 1, 'DATASET BARU/train/LBBB146.txt': 1, 'DATASET BARU/train/LBBB147.txt': 1, 'DATASET BARU/train/LBBB148.txt': 1, 'DATASET BARU/train/LBBB149.txt': 1, 'DATASET BARU/train/LBBB150.txt': 1, 'DATASET BARU/train/LBBB151.txt': 1, 'DATASET BARU/train/LBBB152.txt': 1, 'DATASET BARU/train/LBBB153.txt': 1, 'DATASET BARU/train/LBBB154.txt': 1, 'DATASET BARU/train/LBBB155.txt': 1, 'DATASET BARU/train/LBBB156.txt': 1, 'DATASET BARU/train/LBBB157.txt': 1, 'DATASET BARU/train/LBBB158.txt': 1, 'DATASET BARU/train/LBBB159.txt': 1, 'DATASET BARU/train/LBBB160.txt': 1, 'DATASET BARU/train/LBBB161.txt': 1, 'DATASET BARU/train/LBBB162.txt': 1, 'DATASET BARU/train/LBBB163.txt': 1, 'DATASET BARU/train/LBBB164.txt': 1, 'DATASET BARU/train/LBBB165.txt': 1, 'DATASET BARU/train/LBBB166.txt': 1, 'DATASET BARU/train/LBBB167.txt': 1, 'DATASET BARU/train/LBBB168.txt': 1, 'DATASET BARU/train/LBBB169.txt': 1, 'DATASET BARU/train/LBBB170.txt': 1, 'DATASET BARU/train/LBBB171.txt': 1, 'DATASET BARU/train/LBBB172.txt': 1, 'DATASET BARU/train/LBBB173.txt': 1, 'DATASET BARU/train/LBBB174.txt': 1, 'DATASET BARU/train/LBBB175.txt': 1, 'DATASET BARU/train/LBBB176.txt': 1, 'DATASET BARU/train/LBBB177.txt': 1, 'DATASET BARU/train/LBBB178.txt': 1, 'DATASET BARU/train/LBBB179.txt': 1, 'DATASET BARU/train/LBBB180.txt': 1, 'DATASET BARU/train/LBBB181.txt': 1, 'DATASET BARU/train/LBBB182.txt': 1, 'DATASET BARU/train/LBBB183.txt': 1, 'DATASET BARU/train/LBBB184.txt': 1, 'DATASET BARU/train/LBBB185.txt': 1, 'DATASET BARU/train/LBBB186.txt': 1, 'DATASET BARU/train/LBBB187.txt': 1, 'DATASET BARU/train/LBBB188.txt': 1, 'DATASET BARU/train/LBBB189.txt': 1, 'DATASET BARU/train/LBBB190.txt': 1, 'DATASET BARU/train/LBBB191.txt': 1, 'DATASET BARU/train/LBBB192.txt': 1, 'DATASET BARU/train/LBBB193.txt': 1, 'DATASET BARU/train/LBBB194.txt': 1, 'DATASET BARU/train/LBBB195.txt': 1, 'DATASET BARU/train/LBBB196.txt': 1, 'DATASET BARU/train/LBBB197.txt': 1, 'DATASET BARU/train/LBBB198.txt': 1, 'DATASET BARU/train/LBBB199.txt': 1, 'DATASET BARU/train/LBBB200.txt': 1}\n"
     ]
    }
   ],
   "source": [
    "list_labels = sorted(list(set(train_labels.label.values)))\n",
    "label_to_int = {k:v for v,k in enumerate(list_labels)}\n",
    "int_to_label = {v:k for k,v in label_to_int.items()}\n",
    "file_to_int = {k:label_to_int[v] for k,v in file_to_label.items()}\n",
    "\n",
    "print(list_labels)\n",
    "print(label_to_int)\n",
    "print(int_to_label)\n",
    "print(file_to_int)"
   ]
  },
  {
   "cell_type": "code",
   "execution_count": 8,
   "id": "6e9ea62d",
   "metadata": {},
   "outputs": [],
   "source": [
    "def get_model():\n",
    "    nclass = len(list_labels)\n",
    "    inp = Input(shape=(360, 1))\n",
    "    img_1 = Convolution1D(16, kernel_size=1, activation=activations.relu, padding=\"valid\")(inp)\n",
    "    img_1 = Convolution1D(16, kernel_size=1, activation=activations.relu, padding=\"valid\")(img_1)\n",
    "    img_1 = MaxPool1D(pool_size=16)(img_1)\n",
    "    img_1 = Dropout(rate=0.1)(img_1)\n",
    "    img_1 = Convolution1D(32, kernel_size=1, activation=activations.relu, padding=\"valid\")(img_1)\n",
    "    img_1 = Convolution1D(32, kernel_size=1, activation=activations.relu, padding=\"valid\")(img_1)\n",
    "    img_1 = MaxPool1D(pool_size=4)(img_1)\n",
    "    img_1 = Dropout(rate=0.1)(img_1)\n",
    "    img_1 = Convolution1D(32, kernel_size=1, activation=activations.relu, padding=\"valid\")(img_1)\n",
    "    img_1 = Convolution1D(32, kernel_size=1, activation=activations.relu, padding=\"valid\")(img_1)\n",
    "    img_1 = MaxPool1D(pool_size=4)(img_1)\n",
    "    img_1 = Dropout(rate=0.1)(img_1)\n",
    "    img_1 = Convolution1D(256, kernel_size=1, activation=activations.relu, padding=\"valid\")(img_1)\n",
    "    img_1 = Convolution1D(256, kernel_size=1, activation=activations.relu, padding=\"valid\")(img_1)\n",
    "    img_1 = GlobalMaxPool1D()(img_1)\n",
    "    img_1 = Dropout(rate=0.2)(img_1)\n",
    "\n",
    "    dense_1 = Dense(64, activation=activations.relu)(img_1)\n",
    "    dense_1 = Dense(1028, activation=activations.relu)(dense_1)\n",
    "    dense_1 = Dense(nclass, activation=activations.softmax)(dense_1)\n",
    "\n",
    "    model = models.Model(inputs=inp, outputs=dense_1)\n",
    "    opt = optimizers.Adam(0.0001)\n",
    "\n",
    "    model.compile(optimizer=opt, loss=losses.sparse_categorical_crossentropy, metrics=['acc'])\n",
    "    model.summary()\n",
    "    return model"
   ]
  },
  {
   "cell_type": "code",
   "execution_count": 9,
   "id": "a6a43fa2",
   "metadata": {},
   "outputs": [
    {
     "name": "stdout",
     "output_type": "stream",
     "text": [
      "Model: \"model_1\"\n",
      "_________________________________________________________________\n",
      "Layer (type)                 Output Shape              Param #   \n",
      "=================================================================\n",
      "input_1 (InputLayer)         (None, 360, 1)            0         \n",
      "_________________________________________________________________\n",
      "conv1d_1 (Conv1D)            (None, 360, 16)           32        \n",
      "_________________________________________________________________\n",
      "conv1d_2 (Conv1D)            (None, 360, 16)           272       \n",
      "_________________________________________________________________\n",
      "max_pooling1d_1 (MaxPooling1 (None, 22, 16)            0         \n",
      "_________________________________________________________________\n",
      "dropout_1 (Dropout)          (None, 22, 16)            0         \n",
      "_________________________________________________________________\n",
      "conv1d_3 (Conv1D)            (None, 22, 32)            544       \n",
      "_________________________________________________________________\n",
      "conv1d_4 (Conv1D)            (None, 22, 32)            1056      \n",
      "_________________________________________________________________\n",
      "max_pooling1d_2 (MaxPooling1 (None, 5, 32)             0         \n",
      "_________________________________________________________________\n",
      "dropout_2 (Dropout)          (None, 5, 32)             0         \n",
      "_________________________________________________________________\n",
      "conv1d_5 (Conv1D)            (None, 5, 32)             1056      \n",
      "_________________________________________________________________\n",
      "conv1d_6 (Conv1D)            (None, 5, 32)             1056      \n",
      "_________________________________________________________________\n",
      "max_pooling1d_3 (MaxPooling1 (None, 1, 32)             0         \n",
      "_________________________________________________________________\n",
      "dropout_3 (Dropout)          (None, 1, 32)             0         \n",
      "_________________________________________________________________\n",
      "conv1d_7 (Conv1D)            (None, 1, 256)            8448      \n",
      "_________________________________________________________________\n",
      "conv1d_8 (Conv1D)            (None, 1, 256)            65792     \n",
      "_________________________________________________________________\n",
      "global_max_pooling1d_1 (Glob (None, 256)               0         \n",
      "_________________________________________________________________\n",
      "dropout_4 (Dropout)          (None, 256)               0         \n",
      "_________________________________________________________________\n",
      "dense_1 (Dense)              (None, 64)                16448     \n",
      "_________________________________________________________________\n",
      "dense_2 (Dense)              (None, 1028)              66820     \n",
      "_________________________________________________________________\n",
      "dense_3 (Dense)              (None, 5)                 5145      \n",
      "=================================================================\n",
      "Total params: 166,669\n",
      "Trainable params: 166,669\n",
      "Non-trainable params: 0\n",
      "_________________________________________________________________\n"
     ]
    }
   ],
   "source": [
    "input_length = 360\n",
    "\n",
    "batch_size = 32\n",
    "\n",
    "def audio_norm(data):\n",
    "\n",
    "    max_data = np.max(data)\n",
    "    min_data = np.min(data)\n",
    "    data = (data-min_data)/(max_data-min_data+0.0001)\n",
    "    return data-0.5\n",
    "\n",
    "\n",
    "def load_audio_file(file_path, input_length=input_length):\n",
    "    data = librosa.core.load(file_path, sr=16000)[0] #, sr=16000\n",
    "    if len(data)>input_length:\n",
    "        \n",
    "        \n",
    "        max_offset = len(data)-input_length\n",
    "        \n",
    "        offset = np.random.randint(max_offset)\n",
    "        \n",
    "        data = data[offset:(input_length+offset)]\n",
    "        \n",
    "        \n",
    "    else:\n",
    "        \n",
    "        max_offset = input_length - len(data)\n",
    "        \n",
    "        offset = np.random.randint(max_offset)\n",
    "        \n",
    "        \n",
    "        data = np.pad(data, (offset, input_length - len(data) - offset), \"constant\")\n",
    "        \n",
    "        \n",
    "    data = audio_norm(data)\n",
    "    return data\n",
    "\n",
    "def chunker(seq, size):\n",
    "    return (seq[pos:pos + size] for pos in range(0, len(seq), size))\n",
    "def train_generator(list_files, batch_size=32):\n",
    "    while True:\n",
    "        shuffle(list_files)\n",
    "        for batch_files in chunker(list_files, size=batch_size):\n",
    "            batch_data = [load_audio_file(fpath) for fpath in batch_files]\n",
    "            batch_data = np.array(batch_data)[:,:,np.newaxis]\n",
    "            batch_labels = [file_to_int[fpath] for fpath in batch_files]\n",
    "            batch_labels = np.array(batch_labels)\n",
    "            \n",
    "            yield batch_data, batch_labels\n",
    "            \n",
    "tr_files, val_files = train_test_split(train_files, test_size=0.1)\n",
    "model = get_model()"
   ]
  },
  {
   "cell_type": "code",
   "execution_count": null,
   "id": "5c89dddf",
   "metadata": {},
   "outputs": [
    {
     "name": "stderr",
     "output_type": "stream",
     "text": [
      "C:\\Users\\62812\\.conda\\envs\\tugasakhir_env\\lib\\site-packages\\keras\\engine\\training_generator.py:49: UserWarning: Using a generator with `use_multiprocessing=True` and multiple workers may duplicate your data. Please consider using the `keras.utils.Sequence class.\n",
      "  UserWarning('Using a generator with `use_multiprocessing=True`'\n",
      "Exception in thread Thread-9:\n",
      "Traceback (most recent call last):\n",
      "  File \"C:\\Users\\62812\\.conda\\envs\\tugasakhir_env\\lib\\threading.py\", line 926, in _bootstrap_inner\n",
      "    self.run()\n",
      "  File \"C:\\Users\\62812\\.conda\\envs\\tugasakhir_env\\lib\\threading.py\", line 870, in run\n",
      "    self._target(*self._args, **self._kwargs)\n",
      "  File \"C:\\Users\\62812\\.conda\\envs\\tugasakhir_env\\lib\\site-packages\\keras\\utils\\data_utils.py\", line 690, in _run\n",
      "    with closing(self.executor_fn(_SHARED_SEQUENCES)) as executor:\n",
      "  File \"C:\\Users\\62812\\.conda\\envs\\tugasakhir_env\\lib\\site-packages\\keras\\utils\\data_utils.py\", line 685, in <lambda>\n",
      "    initargs=(seqs, self.random_seed))\n",
      "  File \"C:\\Users\\62812\\.conda\\envs\\tugasakhir_env\\lib\\multiprocessing\\context.py\", line 119, in Pool\n",
      "    context=self.get_context())\n",
      "  File \"C:\\Users\\62812\\.conda\\envs\\tugasakhir_env\\lib\\multiprocessing\\pool.py\", line 176, in __init__\n",
      "    self._repopulate_pool()\n",
      "  File \"C:\\Users\\62812\\.conda\\envs\\tugasakhir_env\\lib\\multiprocessing\\pool.py\", line 241, in _repopulate_pool\n",
      "    w.start()\n",
      "  File \"C:\\Users\\62812\\.conda\\envs\\tugasakhir_env\\lib\\multiprocessing\\process.py\", line 112, in start\n",
      "    self._popen = self._Popen(self)\n",
      "  File \"C:\\Users\\62812\\.conda\\envs\\tugasakhir_env\\lib\\multiprocessing\\context.py\", line 322, in _Popen\n",
      "    return Popen(process_obj)\n",
      "  File \"C:\\Users\\62812\\.conda\\envs\\tugasakhir_env\\lib\\multiprocessing\\popen_spawn_win32.py\", line 89, in __init__\n",
      "    reduction.dump(process_obj, to_child)\n",
      "  File \"C:\\Users\\62812\\.conda\\envs\\tugasakhir_env\\lib\\multiprocessing\\reduction.py\", line 60, in dump\n",
      "    ForkingPickler(file, protocol).dump(obj)\n",
      "TypeError: can't pickle generator objects\n",
      "\n",
      "Exception in thread Thread-8:\n",
      "Traceback (most recent call last):\n",
      "  File \"C:\\Users\\62812\\.conda\\envs\\tugasakhir_env\\lib\\threading.py\", line 926, in _bootstrap_inner\n",
      "    self.run()\n",
      "  File \"C:\\Users\\62812\\.conda\\envs\\tugasakhir_env\\lib\\threading.py\", line 870, in run\n",
      "    self._target(*self._args, **self._kwargs)\n",
      "  File \"C:\\Users\\62812\\.conda\\envs\\tugasakhir_env\\lib\\site-packages\\keras\\utils\\data_utils.py\", line 690, in _run\n",
      "    with closing(self.executor_fn(_SHARED_SEQUENCES)) as executor:\n",
      "  File \"C:\\Users\\62812\\.conda\\envs\\tugasakhir_env\\lib\\site-packages\\keras\\utils\\data_utils.py\", line 685, in <lambda>\n",
      "    initargs=(seqs, self.random_seed))\n",
      "  File \"C:\\Users\\62812\\.conda\\envs\\tugasakhir_env\\lib\\multiprocessing\\context.py\", line 119, in Pool\n",
      "    context=self.get_context())\n",
      "  File \"C:\\Users\\62812\\.conda\\envs\\tugasakhir_env\\lib\\multiprocessing\\pool.py\", line 176, in __init__\n",
      "    self._repopulate_pool()\n",
      "  File \"C:\\Users\\62812\\.conda\\envs\\tugasakhir_env\\lib\\multiprocessing\\pool.py\", line 241, in _repopulate_pool\n",
      "    w.start()\n",
      "  File \"C:\\Users\\62812\\.conda\\envs\\tugasakhir_env\\lib\\multiprocessing\\process.py\", line 112, in start\n",
      "    self._popen = self._Popen(self)\n",
      "  File \"C:\\Users\\62812\\.conda\\envs\\tugasakhir_env\\lib\\multiprocessing\\context.py\", line 322, in _Popen\n",
      "    return Popen(process_obj)\n",
      "  File \"C:\\Users\\62812\\.conda\\envs\\tugasakhir_env\\lib\\multiprocessing\\popen_spawn_win32.py\", line 89, in __init__\n",
      "    reduction.dump(process_obj, to_child)\n",
      "  File \"C:\\Users\\62812\\.conda\\envs\\tugasakhir_env\\lib\\multiprocessing\\reduction.py\", line 60, in dump\n",
      "    ForkingPickler(file, protocol).dump(obj)\n",
      "TypeError: can't pickle generator objects\n",
      "\n"
     ]
    },
    {
     "name": "stdout",
     "output_type": "stream",
     "text": [
      "Epoch 1/2\n"
     ]
    }
   ],
   "source": [
    "model.fit_generator(train_generator(tr_files), steps_per_epoch=len(tr_files)//32, epochs=2,\n",
    "                    validation_data=train_generator(val_files), validation_steps=len(val_files)//32, workers=8, max_queue_size=20)"
   ]
  },
  {
   "cell_type": "code",
   "execution_count": null,
   "id": "8643e9f3",
   "metadata": {},
   "outputs": [],
   "source": []
  }
 ],
 "metadata": {
  "kernelspec": {
   "display_name": "Python 3 (ipykernel)",
   "language": "python",
   "name": "python3"
  },
  "language_info": {
   "codemirror_mode": {
    "name": "ipython",
    "version": 3
   },
   "file_extension": ".py",
   "mimetype": "text/x-python",
   "name": "python",
   "nbconvert_exporter": "python",
   "pygments_lexer": "ipython3",
   "version": "3.7.9"
  }
 },
 "nbformat": 4,
 "nbformat_minor": 5
}
